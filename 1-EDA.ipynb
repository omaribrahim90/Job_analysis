{
 "cells": [
  {
   "cell_type": "markdown",
   "id": "71602ff2",
   "metadata": {},
   "source": [
    "Exploraty Data Analysis"
   ]
  },
  {
   "cell_type": "code",
   "execution_count": 1,
   "id": "1cbf919e",
   "metadata": {},
   "outputs": [
    {
     "name": "stderr",
     "output_type": "stream",
     "text": [
      "c:\\Users\\Mveun\\anaconda3\\envs\\DATA_PROJECT\\Lib\\site-packages\\tqdm\\auto.py:21: TqdmWarning: IProgress not found. Please update jupyter and ipywidgets. See https://ipywidgets.readthedocs.io/en/stable/user_install.html\n",
      "  from .autonotebook import tqdm as notebook_tqdm\n"
     ]
    }
   ],
   "source": [
    "#importing libraries\n",
    "import pandas as pd \n",
    "import seaborn as sns\n",
    "from datasets import load_dataset\n",
    "import matplotlib.pyplot as plt \n",
    "import ast\n",
    "\n",
    "# loding data \n",
    "dataset = load_dataset('lukebarousse/data_jobs')\n",
    "df = dataset['train'].to_pandas()"
   ]
  },
  {
   "cell_type": "code",
   "execution_count": 2,
   "id": "1c63262f",
   "metadata": {},
   "outputs": [
    {
     "name": "stdout",
     "output_type": "stream",
     "text": [
      "<class 'pandas.core.frame.DataFrame'>\n",
      "RangeIndex: 785741 entries, 0 to 785740\n",
      "Data columns (total 17 columns):\n",
      " #   Column                 Non-Null Count   Dtype  \n",
      "---  ------                 --------------   -----  \n",
      " 0   job_title_short        785741 non-null  object \n",
      " 1   job_title              785740 non-null  object \n",
      " 2   job_location           784696 non-null  object \n",
      " 3   job_via                785733 non-null  object \n",
      " 4   job_schedule_type      773074 non-null  object \n",
      " 5   job_work_from_home     785741 non-null  bool   \n",
      " 6   search_location        785741 non-null  object \n",
      " 7   job_posted_date        785741 non-null  object \n",
      " 8   job_no_degree_mention  785741 non-null  bool   \n",
      " 9   job_health_insurance   785741 non-null  bool   \n",
      " 10  job_country            785692 non-null  object \n",
      " 11  salary_rate            33067 non-null   object \n",
      " 12  salary_year_avg        22003 non-null   float64\n",
      " 13  salary_hour_avg        10662 non-null   float64\n",
      " 14  company_name           785723 non-null  object \n",
      " 15  job_skills             668704 non-null  object \n",
      " 16  job_type_skills        668704 non-null  object \n",
      "dtypes: bool(3), float64(2), object(12)\n",
      "memory usage: 86.2+ MB\n"
     ]
    }
   ],
   "source": [
    "df.info()"
   ]
  },
  {
   "cell_type": "code",
   "execution_count": 3,
   "id": "dfe67694",
   "metadata": {},
   "outputs": [
    {
     "data": {
      "text/html": [
       "<div>\n",
       "<style scoped>\n",
       "    .dataframe tbody tr th:only-of-type {\n",
       "        vertical-align: middle;\n",
       "    }\n",
       "\n",
       "    .dataframe tbody tr th {\n",
       "        vertical-align: top;\n",
       "    }\n",
       "\n",
       "    .dataframe thead th {\n",
       "        text-align: right;\n",
       "    }\n",
       "</style>\n",
       "<table border=\"1\" class=\"dataframe\">\n",
       "  <thead>\n",
       "    <tr style=\"text-align: right;\">\n",
       "      <th></th>\n",
       "      <th>job_title_short</th>\n",
       "      <th>job_title</th>\n",
       "      <th>job_location</th>\n",
       "      <th>job_via</th>\n",
       "      <th>job_schedule_type</th>\n",
       "      <th>job_work_from_home</th>\n",
       "      <th>search_location</th>\n",
       "      <th>job_posted_date</th>\n",
       "      <th>job_no_degree_mention</th>\n",
       "      <th>job_health_insurance</th>\n",
       "      <th>job_country</th>\n",
       "      <th>salary_rate</th>\n",
       "      <th>salary_year_avg</th>\n",
       "      <th>salary_hour_avg</th>\n",
       "      <th>company_name</th>\n",
       "      <th>job_skills</th>\n",
       "      <th>job_type_skills</th>\n",
       "    </tr>\n",
       "  </thead>\n",
       "  <tbody>\n",
       "    <tr>\n",
       "      <th>94363</th>\n",
       "      <td>Software Engineer</td>\n",
       "      <td>Integration Engineer</td>\n",
       "      <td>Hanoi, Hoàn Kiếm, Hanoi, Vietnam</td>\n",
       "      <td>via Joboko</td>\n",
       "      <td>Full-time</td>\n",
       "      <td>False</td>\n",
       "      <td>Vietnam</td>\n",
       "      <td>2023-03-31 00:17:15</td>\n",
       "      <td>False</td>\n",
       "      <td>False</td>\n",
       "      <td>Vietnam</td>\n",
       "      <td>None</td>\n",
       "      <td>NaN</td>\n",
       "      <td>NaN</td>\n",
       "      <td>NEYU Ltd.,</td>\n",
       "      <td>None</td>\n",
       "      <td>None</td>\n",
       "    </tr>\n",
       "    <tr>\n",
       "      <th>658900</th>\n",
       "      <td>Senior Data Engineer</td>\n",
       "      <td>Senior Data Engineer</td>\n",
       "      <td>United States</td>\n",
       "      <td>via Jooble</td>\n",
       "      <td>Full-time</td>\n",
       "      <td>False</td>\n",
       "      <td>Georgia</td>\n",
       "      <td>2023-01-07 10:30:59</td>\n",
       "      <td>False</td>\n",
       "      <td>False</td>\n",
       "      <td>United States</td>\n",
       "      <td>None</td>\n",
       "      <td>NaN</td>\n",
       "      <td>NaN</td>\n",
       "      <td>Perficient, Inc.</td>\n",
       "      <td>['scala', 'java', 'python', 'databricks', 'spa...</td>\n",
       "      <td>{'cloud': ['databricks'], 'libraries': ['spark...</td>\n",
       "    </tr>\n",
       "    <tr>\n",
       "      <th>172613</th>\n",
       "      <td>Data Scientist</td>\n",
       "      <td>Feasibility Data Scientist</td>\n",
       "      <td>West Bengal</td>\n",
       "      <td>via LinkedIn</td>\n",
       "      <td>Full-time</td>\n",
       "      <td>False</td>\n",
       "      <td>India</td>\n",
       "      <td>2023-06-22 15:13:48</td>\n",
       "      <td>False</td>\n",
       "      <td>False</td>\n",
       "      <td>India</td>\n",
       "      <td>None</td>\n",
       "      <td>NaN</td>\n",
       "      <td>NaN</td>\n",
       "      <td>PharmiWeb.Jobs: Global Life Science Jobs</td>\n",
       "      <td>None</td>\n",
       "      <td>None</td>\n",
       "    </tr>\n",
       "    <tr>\n",
       "      <th>192806</th>\n",
       "      <td>Data Engineer</td>\n",
       "      <td>Java Data Engineer</td>\n",
       "      <td>Bengaluru, Karnataka, India</td>\n",
       "      <td>via LinkedIn</td>\n",
       "      <td>Full-time</td>\n",
       "      <td>False</td>\n",
       "      <td>India</td>\n",
       "      <td>2023-12-11 15:46:06</td>\n",
       "      <td>False</td>\n",
       "      <td>False</td>\n",
       "      <td>India</td>\n",
       "      <td>None</td>\n",
       "      <td>NaN</td>\n",
       "      <td>NaN</td>\n",
       "      <td>Ushur</td>\n",
       "      <td>['java', 'sql', 'nosql', 'mysql', 'redshift', ...</td>\n",
       "      <td>{'cloud': ['redshift', 'aws', 'azure', 'gcp'],...</td>\n",
       "    </tr>\n",
       "    <tr>\n",
       "      <th>616374</th>\n",
       "      <td>Data Engineer</td>\n",
       "      <td>Data Engineer</td>\n",
       "      <td>South Jakarta, South Jakarta City, Jakarta, In...</td>\n",
       "      <td>via Linkedin</td>\n",
       "      <td>Full-time</td>\n",
       "      <td>False</td>\n",
       "      <td>Indonesia</td>\n",
       "      <td>2023-02-07 12:18:09</td>\n",
       "      <td>False</td>\n",
       "      <td>False</td>\n",
       "      <td>Indonesia</td>\n",
       "      <td>None</td>\n",
       "      <td>NaN</td>\n",
       "      <td>NaN</td>\n",
       "      <td>NTT</td>\n",
       "      <td>['sql', 'r', 'sas', 'sas', 'perl', 'bash', 'sh...</td>\n",
       "      <td>{'analyst_tools': ['sas', 'spss', 'power bi', ...</td>\n",
       "    </tr>\n",
       "    <tr>\n",
       "      <th>151835</th>\n",
       "      <td>Data Engineer</td>\n",
       "      <td>Data Engineer</td>\n",
       "      <td>London, UK</td>\n",
       "      <td>via Startup Jobs</td>\n",
       "      <td>Full-time</td>\n",
       "      <td>False</td>\n",
       "      <td>United Kingdom</td>\n",
       "      <td>2023-02-03 08:36:28</td>\n",
       "      <td>True</td>\n",
       "      <td>False</td>\n",
       "      <td>United Kingdom</td>\n",
       "      <td>None</td>\n",
       "      <td>NaN</td>\n",
       "      <td>NaN</td>\n",
       "      <td>So Energy</td>\n",
       "      <td>['sql', 'python', 'gcp', 'bigquery', 'airflow'...</td>\n",
       "      <td>{'cloud': ['gcp', 'bigquery'], 'libraries': ['...</td>\n",
       "    </tr>\n",
       "    <tr>\n",
       "      <th>576810</th>\n",
       "      <td>Business Analyst</td>\n",
       "      <td>Lead Engineer - Business Intelligence</td>\n",
       "      <td>Abu Dhabi - United Arab Emirates</td>\n",
       "      <td>via Jooble</td>\n",
       "      <td>Full-time</td>\n",
       "      <td>False</td>\n",
       "      <td>United Arab Emirates</td>\n",
       "      <td>2023-07-20 09:44:57</td>\n",
       "      <td>False</td>\n",
       "      <td>False</td>\n",
       "      <td>United Arab Emirates</td>\n",
       "      <td>None</td>\n",
       "      <td>NaN</td>\n",
       "      <td>NaN</td>\n",
       "      <td>Injazat</td>\n",
       "      <td>['sql', 'sql server', 'azure', 'aws', 'redshif...</td>\n",
       "      <td>{'analyst_tools': ['power bi', 'tableau'], 'cl...</td>\n",
       "    </tr>\n",
       "    <tr>\n",
       "      <th>478562</th>\n",
       "      <td>Data Analyst</td>\n",
       "      <td>Data Analyst</td>\n",
       "      <td>Madrid, Spain</td>\n",
       "      <td>via LinkedIn</td>\n",
       "      <td>Full-time</td>\n",
       "      <td>False</td>\n",
       "      <td>Spain</td>\n",
       "      <td>2023-12-19 14:14:57</td>\n",
       "      <td>False</td>\n",
       "      <td>False</td>\n",
       "      <td>Spain</td>\n",
       "      <td>None</td>\n",
       "      <td>NaN</td>\n",
       "      <td>NaN</td>\n",
       "      <td>China Three Gorges (Europe) S.A</td>\n",
       "      <td>['excel', 'power bi']</td>\n",
       "      <td>{'analyst_tools': ['excel', 'power bi']}</td>\n",
       "    </tr>\n",
       "    <tr>\n",
       "      <th>386007</th>\n",
       "      <td>Data Engineer</td>\n",
       "      <td>Data Support Engineer</td>\n",
       "      <td>Kuala Lumpur, Federal Territory of Kuala Lumpu...</td>\n",
       "      <td>via BeBee Malaysia</td>\n",
       "      <td>Full-time</td>\n",
       "      <td>False</td>\n",
       "      <td>Malaysia</td>\n",
       "      <td>2023-04-23 18:18:33</td>\n",
       "      <td>True</td>\n",
       "      <td>False</td>\n",
       "      <td>Malaysia</td>\n",
       "      <td>None</td>\n",
       "      <td>NaN</td>\n",
       "      <td>NaN</td>\n",
       "      <td>Agensi Pekerjaan Great Pyramid Sdn Bhd</td>\n",
       "      <td>['sql', 'nosql', 'azure', 'databricks', 'aws',...</td>\n",
       "      <td>{'cloud': ['azure', 'databricks', 'aws', 'snow...</td>\n",
       "    </tr>\n",
       "    <tr>\n",
       "      <th>601610</th>\n",
       "      <td>Data Engineer</td>\n",
       "      <td>Data Engineer (11000 PEN/Mes) [Remote]</td>\n",
       "      <td>Anywhere</td>\n",
       "      <td>via LinkedIn</td>\n",
       "      <td>Full-time</td>\n",
       "      <td>True</td>\n",
       "      <td>Chile</td>\n",
       "      <td>2023-09-20 09:19:55</td>\n",
       "      <td>False</td>\n",
       "      <td>False</td>\n",
       "      <td>Chile</td>\n",
       "      <td>None</td>\n",
       "      <td>NaN</td>\n",
       "      <td>NaN</td>\n",
       "      <td>Listopro</td>\n",
       "      <td>['python', 'airflow', 'spark']</td>\n",
       "      <td>{'libraries': ['airflow', 'spark'], 'programmi...</td>\n",
       "    </tr>\n",
       "  </tbody>\n",
       "</table>\n",
       "</div>"
      ],
      "text/plain": [
       "             job_title_short                               job_title  \\\n",
       "94363      Software Engineer                    Integration Engineer   \n",
       "658900  Senior Data Engineer                    Senior Data Engineer   \n",
       "172613        Data Scientist              Feasibility Data Scientist   \n",
       "192806         Data Engineer                      Java Data Engineer   \n",
       "616374         Data Engineer                           Data Engineer   \n",
       "151835         Data Engineer                           Data Engineer   \n",
       "576810      Business Analyst   Lead Engineer - Business Intelligence   \n",
       "478562          Data Analyst                            Data Analyst   \n",
       "386007         Data Engineer                   Data Support Engineer   \n",
       "601610         Data Engineer  Data Engineer (11000 PEN/Mes) [Remote]   \n",
       "\n",
       "                                             job_location             job_via  \\\n",
       "94363                    Hanoi, Hoàn Kiếm, Hanoi, Vietnam          via Joboko   \n",
       "658900                                      United States          via Jooble   \n",
       "172613                                        West Bengal        via LinkedIn   \n",
       "192806                        Bengaluru, Karnataka, India        via LinkedIn   \n",
       "616374  South Jakarta, South Jakarta City, Jakarta, In...        via Linkedin   \n",
       "151835                                         London, UK    via Startup Jobs   \n",
       "576810                   Abu Dhabi - United Arab Emirates          via Jooble   \n",
       "478562                                      Madrid, Spain        via LinkedIn   \n",
       "386007  Kuala Lumpur, Federal Territory of Kuala Lumpu...  via BeBee Malaysia   \n",
       "601610                                           Anywhere        via LinkedIn   \n",
       "\n",
       "       job_schedule_type  job_work_from_home       search_location  \\\n",
       "94363          Full-time               False               Vietnam   \n",
       "658900         Full-time               False               Georgia   \n",
       "172613         Full-time               False                 India   \n",
       "192806         Full-time               False                 India   \n",
       "616374         Full-time               False             Indonesia   \n",
       "151835         Full-time               False        United Kingdom   \n",
       "576810         Full-time               False  United Arab Emirates   \n",
       "478562         Full-time               False                 Spain   \n",
       "386007         Full-time               False              Malaysia   \n",
       "601610         Full-time                True                 Chile   \n",
       "\n",
       "            job_posted_date  job_no_degree_mention  job_health_insurance  \\\n",
       "94363   2023-03-31 00:17:15                  False                 False   \n",
       "658900  2023-01-07 10:30:59                  False                 False   \n",
       "172613  2023-06-22 15:13:48                  False                 False   \n",
       "192806  2023-12-11 15:46:06                  False                 False   \n",
       "616374  2023-02-07 12:18:09                  False                 False   \n",
       "151835  2023-02-03 08:36:28                   True                 False   \n",
       "576810  2023-07-20 09:44:57                  False                 False   \n",
       "478562  2023-12-19 14:14:57                  False                 False   \n",
       "386007  2023-04-23 18:18:33                   True                 False   \n",
       "601610  2023-09-20 09:19:55                  False                 False   \n",
       "\n",
       "                 job_country salary_rate  salary_year_avg  salary_hour_avg  \\\n",
       "94363                Vietnam        None              NaN              NaN   \n",
       "658900         United States        None              NaN              NaN   \n",
       "172613                 India        None              NaN              NaN   \n",
       "192806                 India        None              NaN              NaN   \n",
       "616374             Indonesia        None              NaN              NaN   \n",
       "151835        United Kingdom        None              NaN              NaN   \n",
       "576810  United Arab Emirates        None              NaN              NaN   \n",
       "478562                 Spain        None              NaN              NaN   \n",
       "386007              Malaysia        None              NaN              NaN   \n",
       "601610                 Chile        None              NaN              NaN   \n",
       "\n",
       "                                    company_name  \\\n",
       "94363                                 NEYU Ltd.,   \n",
       "658900                          Perficient, Inc.   \n",
       "172613  PharmiWeb.Jobs: Global Life Science Jobs   \n",
       "192806                                     Ushur   \n",
       "616374                                       NTT   \n",
       "151835                                 So Energy   \n",
       "576810                                   Injazat   \n",
       "478562           China Three Gorges (Europe) S.A   \n",
       "386007    Agensi Pekerjaan Great Pyramid Sdn Bhd   \n",
       "601610                                  Listopro   \n",
       "\n",
       "                                               job_skills  \\\n",
       "94363                                                None   \n",
       "658900  ['scala', 'java', 'python', 'databricks', 'spa...   \n",
       "172613                                               None   \n",
       "192806  ['java', 'sql', 'nosql', 'mysql', 'redshift', ...   \n",
       "616374  ['sql', 'r', 'sas', 'sas', 'perl', 'bash', 'sh...   \n",
       "151835  ['sql', 'python', 'gcp', 'bigquery', 'airflow'...   \n",
       "576810  ['sql', 'sql server', 'azure', 'aws', 'redshif...   \n",
       "478562                              ['excel', 'power bi']   \n",
       "386007  ['sql', 'nosql', 'azure', 'databricks', 'aws',...   \n",
       "601610                     ['python', 'airflow', 'spark']   \n",
       "\n",
       "                                          job_type_skills  \n",
       "94363                                                None  \n",
       "658900  {'cloud': ['databricks'], 'libraries': ['spark...  \n",
       "172613                                               None  \n",
       "192806  {'cloud': ['redshift', 'aws', 'azure', 'gcp'],...  \n",
       "616374  {'analyst_tools': ['sas', 'spss', 'power bi', ...  \n",
       "151835  {'cloud': ['gcp', 'bigquery'], 'libraries': ['...  \n",
       "576810  {'analyst_tools': ['power bi', 'tableau'], 'cl...  \n",
       "478562           {'analyst_tools': ['excel', 'power bi']}  \n",
       "386007  {'cloud': ['azure', 'databricks', 'aws', 'snow...  \n",
       "601610  {'libraries': ['airflow', 'spark'], 'programmi...  "
      ]
     },
     "execution_count": 3,
     "metadata": {},
     "output_type": "execute_result"
    }
   ],
   "source": [
    "df.sample(10)"
   ]
  },
  {
   "cell_type": "markdown",
   "id": "5bd33f86",
   "metadata": {},
   "source": [
    "data cleaning "
   ]
  },
  {
   "cell_type": "code",
   "execution_count": 4,
   "id": "f13c4c37",
   "metadata": {},
   "outputs": [
    {
     "data": {
      "text/plain": [
       "str"
      ]
     },
     "execution_count": 4,
     "metadata": {},
     "output_type": "execute_result"
    }
   ],
   "source": [
    "type('job_skills')"
   ]
  },
  {
   "cell_type": "code",
   "execution_count": 5,
   "id": "c6f5f92d",
   "metadata": {},
   "outputs": [],
   "source": [
    "#convert the job posted date to datetime \n",
    "df.job_posted_date = pd.to_datetime(df.job_posted_date)\n",
    "\n",
    "#job skills provided as string not a list, we need to conver it to a list using literal_eval function \n",
    "df['job_skills'] = df['job_skills'].apply(lambda x: ast.literal_eval(x) if pd.notna(x) else x)"
   ]
  },
  {
   "cell_type": "code",
   "execution_count": 6,
   "id": "c50c9fdf",
   "metadata": {},
   "outputs": [],
   "source": [
    "df_US = df[(df['job_country'] == 'United States' ) & (df['job_title_short'] == 'Data Analyst')]"
   ]
  },
  {
   "cell_type": "code",
   "execution_count": 7,
   "id": "41bd32b9",
   "metadata": {},
   "outputs": [
    {
     "data": {
      "text/plain": [
       "67816"
      ]
     },
     "execution_count": 7,
     "metadata": {},
     "output_type": "execute_result"
    }
   ],
   "source": [
    "len(df_US)"
   ]
  },
  {
   "cell_type": "markdown",
   "id": "bc033c0a",
   "metadata": {},
   "source": [
    "plot the locations of the jobs"
   ]
  },
  {
   "cell_type": "code",
   "execution_count": 8,
   "id": "d3588506",
   "metadata": {},
   "outputs": [],
   "source": [
    "Location_plot= df_US['job_location'].value_counts().head(10).to_frame()"
   ]
  },
  {
   "cell_type": "code",
   "execution_count": 9,
   "id": "9bd9bd65",
   "metadata": {},
   "outputs": [
    {
     "data": {
      "image/png": "[encoded data removed]",
      "text/plain": [
       "<Figure size 640x480 with 1 Axes>"
      ]
     },
     "metadata": {},
     "output_type": "display_data"
    }
   ],
   "source": [
    "sns.set_theme(style='ticks')\n",
    "sns.barplot(data=Location_plot , x='count' , y='job_location' , hue= 'count' , palette='dark:b_r', legend= False ) \n",
    "\n",
    "plt.title('count of data analyst jobs in US')\n",
    "plt.xlabel('number of jobs')\n",
    "plt.ylabel(\" \")\n",
    "plt.show()"
   ]
  },
  {
   "cell_type": "markdown",
   "id": "f9917b26",
   "metadata": {},
   "source": [
    "work from home jobs , if the job required dgree and dose it provide health insurance "
   ]
  },
  {
   "cell_type": "code",
   "execution_count": 10,
   "id": "514375ca",
   "metadata": {},
   "outputs": [
    {
     "data": {
      "image/png": "[encoded data removed]",
      "text/plain": [
       "<Figure size 640x480 with 3 Axes>"
      ]
     },
     "metadata": {},
     "output_type": "display_data"
    }
   ],
   "source": [
    "fig, ax = plt.subplots(1 , 3)\n",
    "\n",
    "dic_coulmns = {'job_work_from_home' : 'work from home' ,\n",
    "                'job_no_degree_mention' : 'job dgree req' ,\n",
    "                'job_health_insurance' : 'health insurance offered'\n",
    "                }\n",
    "\n",
    "\n",
    "\n",
    "for i , (key , value ) in enumerate(dic_coulmns.items()) : \n",
    "    ax[i].pie(df_US[key].value_counts() , startangle= 90 , autopct = '%1.2f%%' , labels= ['False' , 'True'] )\n",
    "    ax[i].set_title(value)\n",
    "\n",
    "\n",
    "plt.tight_layout()"
   ]
  },
  {
   "cell_type": "markdown",
   "id": "5813a62c",
   "metadata": {},
   "source": [
    "companies with most data analyst jobs"
   ]
  },
  {
   "cell_type": "code",
   "execution_count": 11,
   "id": "c273c07f",
   "metadata": {},
   "outputs": [],
   "source": [
    "companies_plot = df['company_name'].value_counts().head(10).to_frame()"
   ]
  },
  {
   "cell_type": "code",
   "execution_count": 12,
   "id": "3cd00618",
   "metadata": {},
   "outputs": [
    {
     "data": {
      "text/html": [
       "<div>\n",
       "<style scoped>\n",
       "    .dataframe tbody tr th:only-of-type {\n",
       "        vertical-align: middle;\n",
       "    }\n",
       "\n",
       "    .dataframe tbody tr th {\n",
       "        vertical-align: top;\n",
       "    }\n",
       "\n",
       "    .dataframe thead th {\n",
       "        text-align: right;\n",
       "    }\n",
       "</style>\n",
       "<table border=\"1\" class=\"dataframe\">\n",
       "  <thead>\n",
       "    <tr style=\"text-align: right;\">\n",
       "      <th></th>\n",
       "      <th>count</th>\n",
       "    </tr>\n",
       "    <tr>\n",
       "      <th>company_name</th>\n",
       "      <th></th>\n",
       "    </tr>\n",
       "  </thead>\n",
       "  <tbody>\n",
       "    <tr>\n",
       "      <th>Emprego</th>\n",
       "      <td>6664</td>\n",
       "    </tr>\n",
       "    <tr>\n",
       "      <th>Booz Allen Hamilton</th>\n",
       "      <td>2879</td>\n",
       "    </tr>\n",
       "    <tr>\n",
       "      <th>Dice</th>\n",
       "      <td>2827</td>\n",
       "    </tr>\n",
       "    <tr>\n",
       "      <th>Harnham</th>\n",
       "      <td>2547</td>\n",
       "    </tr>\n",
       "    <tr>\n",
       "      <th>Insight Global</th>\n",
       "      <td>2254</td>\n",
       "    </tr>\n",
       "    <tr>\n",
       "      <th>Citi</th>\n",
       "      <td>2164</td>\n",
       "    </tr>\n",
       "    <tr>\n",
       "      <th>Confidenziale</th>\n",
       "      <td>2040</td>\n",
       "    </tr>\n",
       "    <tr>\n",
       "      <th>Listopro</th>\n",
       "      <td>1984</td>\n",
       "    </tr>\n",
       "    <tr>\n",
       "      <th>Capital One</th>\n",
       "      <td>1946</td>\n",
       "    </tr>\n",
       "    <tr>\n",
       "      <th>Walmart</th>\n",
       "      <td>1863</td>\n",
       "    </tr>\n",
       "  </tbody>\n",
       "</table>\n",
       "</div>"
      ],
      "text/plain": [
       "                     count\n",
       "company_name              \n",
       "Emprego               6664\n",
       "Booz Allen Hamilton   2879\n",
       "Dice                  2827\n",
       "Harnham               2547\n",
       "Insight Global        2254\n",
       "Citi                  2164\n",
       "Confidenziale         2040\n",
       "Listopro              1984\n",
       "Capital One           1946\n",
       "Walmart               1863"
      ]
     },
     "execution_count": 12,
     "metadata": {},
     "output_type": "execute_result"
    }
   ],
   "source": [
    "companies_plot"
   ]
  },
  {
   "cell_type": "code",
   "execution_count": 13,
   "id": "9107a4ce",
   "metadata": {},
   "outputs": [
    {
     "data": {
      "image/png": "[encoded data removed]",
      "text/plain": [
       "<Figure size 640x480 with 1 Axes>"
      ]
     },
     "metadata": {},
     "output_type": "display_data"
    }
   ],
   "source": [
    "sns.barplot(data= companies_plot , x='count' , y='company_name' , hue='count' , palette='dark:b_r' , legend= False)\n",
    "plt.title('counts of compines for data analyst in US ')\n",
    "plt.ylabel('company name')\n",
    "plt.xlabel(\"Number of jobs\")\n",
    "plt.show()"
   ]
  }
 ],
 "metadata": {
  "kernelspec": {
   "display_name": "DATA_PROJECT",
   "language": "python",
   "name": "python3"
  },
  "language_info": {
   "codemirror_mode": {
    "name": "ipython",
    "version": 3
   },
   "file_extension": ".py",
   "mimetype": "text/x-python",
   "name": "python",
   "nbconvert_exporter": "python",
   "pygments_lexer": "ipython3",
   "version": "3.11.9"
  }
 },
 "nbformat": 4,
 "nbformat_minor": 5
}
